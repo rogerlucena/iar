{
 "cells": [
  {
   "cell_type": "markdown",
   "metadata": {},
   "source": [
    "Simple example of using evolution strategies inside `es.py` for toy deterministic fitness function."
   ]
  },
  {
   "cell_type": "code",
   "execution_count": 2,
   "metadata": {},
   "outputs": [],
   "source": [
    "import numpy as np\n",
    "import matplotlib.pyplot as plt\n",
    "# import cma\n",
    "from es import SimpleGA, CMAES, PEPG, OpenES"
   ]
  },
  {
   "cell_type": "code",
   "execution_count": 3,
   "metadata": {},
   "outputs": [],
   "source": [
    "# from https://github.com/CMA-ES/pycma/blob/master/cma/fitness_functions.py\n",
    "def rastrigin(x):\n",
    "  \"\"\"Rastrigin test objective function, shifted by 10. units away from origin\"\"\"\n",
    "  x = np.copy(x)\n",
    "  x -= 10.0\n",
    "  if not np.isscalar(x[0]):\n",
    "    N = len(x[0])\n",
    "    return -np.array([10 * N + sum(xi**2 - 10 * np.cos(2 * np.pi * xi)) for xi in x])\n",
    "  N = len(x)\n",
    "  return -(10 * N + sum(x**2 - 10 * np.cos(2 * np.pi * x)))\n",
    "\n",
    "fit_func = rastrigin"
   ]
  },
  {
   "cell_type": "code",
   "execution_count": 4,
   "metadata": {},
   "outputs": [],
   "source": [
    "NPARAMS = 100        # make this a 100-dimensinal problem.\n",
    "NPOPULATION = 101    # use population size of 101.\n",
    "MAX_ITERATION = 4000 # run each solver for 5000 generations."
   ]
  },
  {
   "cell_type": "code",
   "execution_count": 5,
   "metadata": {},
   "outputs": [],
   "source": [
    "# defines a function to use solver to solve fit_func\n",
    "def test_solver(solver):\n",
    "  history = []\n",
    "  for j in range(MAX_ITERATION):\n",
    "    solutions = solver.ask()\n",
    "    fitness_list = np.zeros(solver.popsize)\n",
    "    for i in range(solver.popsize):\n",
    "      fitness_list[i] = fit_func(solutions[i])\n",
    "    solver.tell(fitness_list)\n",
    "    result = solver.result() # first element is the best solution, second element is the best fitness\n",
    "    history.append(result[1])\n",
    "    if (j+1) % 100 == 0:\n",
    "      print(\"fitness at iteration\", (j+1), result[1])\n",
    "  print(\"local optimum discovered by solver:\\n\", result[0])\n",
    "  print(\"fitness score at this local optimum:\", result[1])\n",
    "  return history"
   ]
  },
  {
   "cell_type": "code",
   "execution_count": 6,
   "metadata": {},
   "outputs": [
    {
     "name": "stdout",
     "output_type": "stream",
     "text": [
      "This is F(0):\n",
      "-10000.0\n"
     ]
    }
   ],
   "source": [
    "x = np.zeros(NPARAMS) # 100-dimensional problem\n",
    "print(\"This is F(0):\")\n",
    "print(rastrigin(x))"
   ]
  },
  {
   "cell_type": "code",
   "execution_count": 7,
   "metadata": {},
   "outputs": [
    {
     "name": "stdout",
     "output_type": "stream",
     "text": [
      "-0.0\n",
      "global optimum point:\n",
      " [10. 10. 10. 10. 10. 10. 10. 10. 10. 10. 10. 10. 10. 10. 10. 10. 10. 10.\n",
      " 10. 10. 10. 10. 10. 10. 10. 10. 10. 10. 10. 10. 10. 10. 10. 10. 10. 10.\n",
      " 10. 10. 10. 10. 10. 10. 10. 10. 10. 10. 10. 10. 10. 10. 10. 10. 10. 10.\n",
      " 10. 10. 10. 10. 10. 10. 10. 10. 10. 10. 10. 10. 10. 10. 10. 10. 10. 10.\n",
      " 10. 10. 10. 10. 10. 10. 10. 10. 10. 10. 10. 10. 10. 10. 10. 10. 10. 10.\n",
      " 10. 10. 10. 10. 10. 10. 10. 10. 10. 10.]\n"
     ]
    }
   ],
   "source": [
    "x = np.ones(NPARAMS)*10. # 100-dimensional problem\n",
    "print(rastrigin(x))\n",
    "print(\"global optimum point:\\n\", x)"
   ]
  },
  {
   "cell_type": "code",
   "execution_count": 8,
   "metadata": {},
   "outputs": [],
   "source": [
    "# defines genetic algorithm solver\n",
    "ga = SimpleGA(NPARAMS,                # number of model parameters\n",
    "               sigma_init=0.5,        # initial standard deviation\n",
    "               popsize=NPOPULATION,   # population size\n",
    "               elite_ratio=0.1,       # percentage of the elites\n",
    "               forget_best=False,     # forget the historical best elites\n",
    "               weight_decay=0.00,     # weight decay coefficient\n",
    "              )"
   ]
  },
  {
   "cell_type": "code",
   "execution_count": 9,
   "metadata": {},
   "outputs": [
    {
     "name": "stdout",
     "output_type": "stream",
     "text": [
      "fitness at iteration 100 -1270.9405459487725\n",
      "fitness at iteration 200 -1112.97854938833\n",
      "fitness at iteration 300 -1035.8973081134886\n",
      "fitness at iteration 400 -1035.8973081134886\n",
      "fitness at iteration 500 -960.5376169522381\n",
      "fitness at iteration 600 -956.9113350231733\n",
      "fitness at iteration 700 -902.2705233485054\n",
      "fitness at iteration 800 -883.6005667048325\n",
      "fitness at iteration 900 -808.7428524766719\n",
      "fitness at iteration 1000 -742.7650739418032\n",
      "fitness at iteration 1100 -722.0036718794033\n",
      "fitness at iteration 1200 -704.9901952122016\n",
      "fitness at iteration 1300 -656.9675862213519\n",
      "fitness at iteration 1400 -565.129909830116\n",
      "fitness at iteration 1500 -527.3428082061399\n",
      "fitness at iteration 1600 -496.92931625904816\n",
      "fitness at iteration 1700 -447.63253784993196\n",
      "fitness at iteration 1800 -411.7816534849376\n",
      "fitness at iteration 1900 -366.3581914879842\n",
      "fitness at iteration 2000 -350.0064985518047\n",
      "fitness at iteration 2100 -312.3407612269185\n",
      "fitness at iteration 2200 -291.09869772801676\n",
      "fitness at iteration 2300 -271.6127053679994\n",
      "fitness at iteration 2400 -243.69925298971327\n",
      "fitness at iteration 2500 -238.68188901332735\n",
      "fitness at iteration 2600 -233.6802853245406\n",
      "fitness at iteration 2700 -223.82611004275725\n",
      "fitness at iteration 2800 -214.94532392320286\n",
      "fitness at iteration 2900 -205.63243830844033\n",
      "fitness at iteration 3000 -201.35677134685147\n",
      "fitness at iteration 3100 -195.65349629335606\n",
      "fitness at iteration 3200 -193.40002418790527\n",
      "fitness at iteration 3300 -190.4679477537146\n",
      "fitness at iteration 3400 -188.59899237741809\n",
      "fitness at iteration 3500 -185.79084903259582\n",
      "fitness at iteration 3600 -184.37175721251424\n",
      "fitness at iteration 3700 -183.21738917217704\n",
      "fitness at iteration 3800 -181.54296186570173\n",
      "fitness at iteration 3900 -181.19926768514415\n",
      "fitness at iteration 4000 -180.0603084407071\n",
      "local optimum discovered by solver:\n",
      " [ 7.98219933  9.00455573  9.97746332  7.98416988  9.99244193  8.01968557\n",
      "  9.01264782 11.97966357  9.02498187  8.01675299  9.00633648 10.00297658\n",
      "  9.99881861  9.99465784  9.03335713 10.0016421   9.02056234  8.00747764\n",
      "  9.99239539  9.01323373  9.0247908  10.99844125  8.99721848 10.02601266\n",
      "  9.01522011  9.01253164 10.01032314  8.9834978   8.99913588  9.99254637\n",
      "  9.9917426   7.03191424  8.00669707 11.99239938 10.00251997 10.98755783\n",
      " 11.00956354 10.00126473  8.98566055  9.00551715  8.00341755  8.0132614\n",
      " 10.01992675  7.04779044  7.02700334 10.00523865  9.98829136  9.98231131\n",
      "  8.99234285  9.99688294  8.98863427  7.00806108  9.98912945 11.02266223\n",
      "  9.01719979  9.01151388 10.9948222  10.00099363 10.98038155  9.99574057\n",
      "  9.01743504  9.01063592  8.9942842  10.97194282 10.02085595 10.00160565\n",
      " 10.01566654  8.994714    8.00643579  8.99914892  9.00207937  9.99915829\n",
      "  7.01670139  7.01786941 10.00558528  9.99478193  8.01220568  7.00548833\n",
      " 10.9912073  10.99335219 10.00444946 10.00398575  8.02699569 10.99945004\n",
      "  8.99387111 10.01174923 11.98130617  8.01636728  8.99690458 11.991424\n",
      " 10.973195    8.01062961  9.02037506  9.01047826  9.02322347  9.99767705\n",
      " 10.99991006 11.97537614 10.99449994  9.98759574]\n",
      "fitness score at this local optimum: -180.0603084407071\n"
     ]
    }
   ],
   "source": [
    "ga_history = test_solver(ga)"
   ]
  },
  {
   "cell_type": "code",
   "execution_count": 9,
   "metadata": {},
   "outputs": [
    {
     "name": "stdout",
     "output_type": "stream",
     "text": [
      "(50_w,101)-aCMA-ES (mu_w=27.2,w_1=8%) in dimension 100 (seed=294764, Fri Oct 27 22:06:15 2017)\n"
     ]
    }
   ],
   "source": [
    "# defines CMA-ES algorithm solver\n",
    "cmaes = CMAES(NPARAMS,\n",
    "              popsize=NPOPULATION,\n",
    "              weight_decay=0.0,\n",
    "              sigma_init = 0.5\n",
    "          )"
   ]
  },
  {
   "cell_type": "code",
   "execution_count": 10,
   "metadata": {},
   "outputs": [
    {
     "name": "stdout",
     "output_type": "stream",
     "text": [
      "fitness at iteration 100 -1003.9909974159419\n",
      "fitness at iteration 200 -802.8268305857051\n",
      "fitness at iteration 300 -60.280708828513866\n",
      "fitness at iteration 400 -53.73079723380158\n",
      "fitness at iteration 500 -53.727776804587734\n",
      "fitness at iteration 600 -53.72777397149821\n",
      "fitness at iteration 700 -53.72777396958156\n",
      "fitness at iteration 800 -53.72777396958077\n",
      "fitness at iteration 900 -53.72777396958065\n",
      "fitness at iteration 1000 -53.72777396958065\n",
      "fitness at iteration 1100 -53.72777396958065\n",
      "fitness at iteration 1200 -53.72777396958065\n",
      "fitness at iteration 1300 -53.72777396958065\n",
      "fitness at iteration 1400 -53.72777396958065\n",
      "fitness at iteration 1500 -53.72777396958065\n",
      "fitness at iteration 1600 -53.72777396958065\n",
      "fitness at iteration 1700 -53.72777396958065\n",
      "fitness at iteration 1800 -53.72777396958065\n",
      "fitness at iteration 1900 -53.72777396958065\n",
      "fitness at iteration 2000 -53.72777396958065\n",
      "fitness at iteration 2100 -53.72777396958065\n",
      "fitness at iteration 2200 -53.72777396958065\n",
      "fitness at iteration 2300 -53.72777396958065\n",
      "fitness at iteration 2400 -53.72777396958065\n",
      "fitness at iteration 2500 -53.72777396958065\n",
      "fitness at iteration 2600 -53.72777396958065\n",
      "fitness at iteration 2700 -53.72777396958065\n",
      "fitness at iteration 2800 -53.72777396958065\n",
      "fitness at iteration 2900 -53.72777396958065\n",
      "fitness at iteration 3000 -53.72777396958065\n",
      "fitness at iteration 3100 -53.72777396958065\n",
      "fitness at iteration 3200 -53.72777396958065\n",
      "fitness at iteration 3300 -53.72777396958065\n",
      "fitness at iteration 3400 -53.72777396958065\n",
      "fitness at iteration 3500 -53.72777396958065\n",
      "fitness at iteration 3600 -53.72777396958065\n",
      "fitness at iteration 3700 -53.72777396958065\n",
      "fitness at iteration 3800 -53.72777396958065\n",
      "fitness at iteration 3900 -53.72777396958065\n",
      "fitness at iteration 4000 -53.72777396958065\n",
      "local optimum discovered by solver:\n",
      " [ 10.          10.          10.          10.          10.          10.99495864\n",
      "  10.99495864   8.01008777  10.99495864   9.00504136  10.          10.          10.\n",
      "   9.00504136  10.           9.00504136  10.          10.99495864\n",
      "   8.01008776  10.99495864  10.99495864  10.           9.00504137\n",
      "  10.99495863  10.99495864   9.00504136  10.           9.00504136\n",
      "  10.99495863  10.          10.99495863   8.01008776  10.99495863  10.          10.\n",
      "  10.99495863   9.00504137  10.99495863   9.99999999  10.          10.          10.\n",
      "  10.          10.          10.          10.99495864  10.          10.\n",
      "   9.00504137   9.00504137  10.           9.00504136  10.99495863\n",
      "  10.99495864  10.00000001   9.00504136  10.           9.00504136  10.          10.\n",
      "  10.           9.99999999  10.          10.           9.99999999  10.\n",
      "   9.00504137  10.          10.           9.00504136   9.00504137  10.\n",
      "   9.00504137   9.99999999  10.           9.00504136   9.00504136\n",
      "  10.00000001  10.          10.           9.00504136  10.99495864  10.\n",
      "  10.99495864  10.          10.00000001  10.00000001  10.           9.00504136\n",
      "  10.99495863   9.00504136  10.99495865  10.          10.          10.00000001\n",
      "   9.99999999  10.          10.99495864   9.99999999  10.        ]\n",
      "fitness score at this local optimum: -53.72777396958065\n"
     ]
    }
   ],
   "source": [
    "cma_history = test_solver(cmaes)"
   ]
  },
  {
   "cell_type": "code",
   "execution_count": 10,
   "metadata": {},
   "outputs": [],
   "source": [
    "# defines PEPG (NES) solver\n",
    "pepg = PEPG(NPARAMS,                         # number of model parameters\n",
    "            sigma_init=0.5,                  # initial standard deviation\n",
    "            learning_rate=0.1,               # learning rate for standard deviation\n",
    "            learning_rate_decay=1.0,       # don't anneal the learning rate\n",
    "            popsize=NPOPULATION,             # population size\n",
    "            average_baseline=False,          # set baseline to average of batch\n",
    "            weight_decay=0.00,            # weight decay coefficient\n",
    "            rank_fitness=False,           # use rank rather than fitness numbers\n",
    "            forget_best=False)            # don't keep the historical best solution)"
   ]
  },
  {
   "cell_type": "code",
   "execution_count": 11,
   "metadata": {},
   "outputs": [
    {
     "name": "stdout",
     "output_type": "stream",
     "text": [
      "fitness at iteration 100 -3709.272096057294\n",
      "fitness at iteration 200 -1365.415772113699\n",
      "fitness at iteration 300 -1027.0212355244419\n",
      "fitness at iteration 400 -878.7561447943988\n",
      "fitness at iteration 500 -671.5197432670567\n",
      "fitness at iteration 600 -579.3979577037712\n",
      "fitness at iteration 700 -489.6805220486888\n",
      "fitness at iteration 800 -433.55793720126167\n",
      "fitness at iteration 900 -388.43962150330617\n",
      "fitness at iteration 1000 -357.3195625037024\n",
      "fitness at iteration 1100 -309.98571154033175\n",
      "fitness at iteration 1200 -283.84752615648097\n",
      "fitness at iteration 1300 -263.6379299517439\n",
      "fitness at iteration 1400 -256.2636782420475\n",
      "fitness at iteration 1500 -252.64177386433823\n",
      "fitness at iteration 1600 -251.5866428546716\n",
      "fitness at iteration 1700 -245.27256337363906\n",
      "fitness at iteration 1800 -244.29971815291026\n",
      "fitness at iteration 1900 -242.93534684685415\n",
      "fitness at iteration 2000 -242.8903295415214\n",
      "fitness at iteration 2100 -241.6873278759307\n",
      "fitness at iteration 2200 -241.58048075398062\n",
      "fitness at iteration 2300 -241.29074261187498\n",
      "fitness at iteration 2400 -240.80924895177588\n",
      "fitness at iteration 2500 -240.71356541198838\n",
      "fitness at iteration 2600 -240.71356541198838\n",
      "fitness at iteration 2700 -240.61752929903173\n",
      "fitness at iteration 2800 -240.22330946374586\n",
      "fitness at iteration 2900 -240.22330946374586\n",
      "fitness at iteration 3000 -240.22330946374586\n",
      "fitness at iteration 3100 -240.22330946374586\n",
      "fitness at iteration 3200 -240.13510977755038\n",
      "fitness at iteration 3300 -240.13510977755038\n",
      "fitness at iteration 3400 -240.13510977755038\n",
      "fitness at iteration 3500 -239.779384481771\n",
      "fitness at iteration 3600 -239.779384481771\n",
      "fitness at iteration 3700 -239.54685598293952\n",
      "fitness at iteration 3800 -239.54685598293952\n",
      "fitness at iteration 3900 -239.49254037002652\n",
      "fitness at iteration 4000 -239.49254037002652\n",
      "local optimum discovered by solver:\n",
      " [10.01353575 10.04926101  9.98828124 10.00104967 11.0124612   9.0111995\n",
      "  9.99141618  8.99502644  9.98207512 10.99598808 10.98400146  8.98593809\n",
      " 11.99912927 10.99566247 11.00059148  9.99336108 10.99887149 10.98115219\n",
      " 10.99321624  9.05777484 11.01417561  9.99643394  9.99095064 11.00451479\n",
      " 10.99531205 10.97264201  9.99592913  9.00433081 10.00419619 11.98967999\n",
      " 11.98063785  9.99711086  9.99333941  9.00308254 10.98696789 11.97004052\n",
      " 10.99345942 10.98802574 11.99254568  9.99653308  9.98908781 10.99616527\n",
      " 11.00024693  9.99442498  9.00939549  9.0017     11.00537078 10.99890696\n",
      "  7.00792758 11.99196435 10.9820776  11.98493154 10.99383034 10.00882399\n",
      " 10.99552266  8.99382735 10.00242211  8.9883439  10.00019819 11.99312599\n",
      " 11.00709336  8.02378512 10.98200688  9.99874821 11.00463239 11.9912066\n",
      " 10.99695748 10.00339671 11.00117389 10.99830297 10.98873172  9.01444037\n",
      " 10.00284923 11.00355554 10.99183263  9.97871695  0.04937967  9.99968871\n",
      " 11.00805508 10.98333866  9.00362425 10.98706118 11.9864114   9.98278688\n",
      " 10.98228517 11.98072825 10.99872599  9.98660283  9.02584902 11.98374389\n",
      " 11.98417709  7.99360983 10.00792727 11.00119954 12.97140179 10.00336892\n",
      " 11.98954295 10.98829106 10.99470016 11.98490618]\n",
      "fitness score at this local optimum: -239.49254037002652\n"
     ]
    }
   ],
   "source": [
    "pepg_history = test_solver(pepg)"
   ]
  },
  {
   "cell_type": "code",
   "execution_count": 12,
   "metadata": {},
   "outputs": [],
   "source": [
    "# defines OpenAI's ES algorithm solver. Note that we needed to anneal the sigma parameter\n",
    "oes = OpenES(NPARAMS,                  # number of model parameters\n",
    "            sigma_init=0.5,            # initial standard deviation\n",
    "            sigma_decay=0.999,         # don't anneal standard deviation\n",
    "            learning_rate=0.1,         # learning rate for standard deviation\n",
    "            learning_rate_decay = 1.0, # annealing the learning rate\n",
    "            popsize=NPOPULATION,       # population size\n",
    "            antithetic=False,          # whether to use antithetic sampling\n",
    "            weight_decay=0.00,         # weight decay coefficient\n",
    "            rank_fitness=False,        # use rank rather than fitness numbers\n",
    "            forget_best=False)"
   ]
  },
  {
   "cell_type": "code",
   "execution_count": 13,
   "metadata": {},
   "outputs": [
    {
     "name": "stdout",
     "output_type": "stream",
     "text": [
      "fitness at iteration 100 -2541.904434811829\n",
      "fitness at iteration 200 -839.7021630443957\n",
      "fitness at iteration 300 -806.316819581016\n",
      "fitness at iteration 400 -806.316819581016\n",
      "fitness at iteration 500 -800.9053909182181\n",
      "fitness at iteration 600 -747.6623224719814\n",
      "fitness at iteration 700 -662.4270293720813\n",
      "fitness at iteration 800 -579.5092657046469\n",
      "fitness at iteration 900 -560.779734578466\n",
      "fitness at iteration 1000 -510.3039990127679\n",
      "fitness at iteration 1100 -462.37547866537204\n",
      "fitness at iteration 1200 -374.03180995809635\n",
      "fitness at iteration 1300 -344.5584479822553\n",
      "fitness at iteration 1400 -318.66223473501634\n",
      "fitness at iteration 1500 -318.66223473501634\n",
      "fitness at iteration 1600 -284.42665511046414\n",
      "fitness at iteration 1700 -263.5232392501059\n",
      "fitness at iteration 1800 -221.5937381543464\n",
      "fitness at iteration 1900 -211.52921333848008\n",
      "fitness at iteration 2000 -189.59453169590313\n",
      "fitness at iteration 2100 -179.9536190002949\n",
      "fitness at iteration 2200 -177.45391109281832\n",
      "fitness at iteration 2300 -165.89968128525095\n",
      "fitness at iteration 2400 -158.1837168842327\n",
      "fitness at iteration 2500 -155.35791917523227\n",
      "fitness at iteration 2600 -152.87620587207653\n",
      "fitness at iteration 2700 -152.87620587207653\n",
      "fitness at iteration 2800 -152.87620587207653\n",
      "fitness at iteration 2900 -142.8236484876221\n",
      "fitness at iteration 3000 -142.8236484876221\n",
      "fitness at iteration 3100 -142.8236484876221\n",
      "fitness at iteration 3200 -142.8236484876221\n",
      "fitness at iteration 3300 -137.40136153256105\n",
      "fitness at iteration 3400 -132.32405542673803\n",
      "fitness at iteration 3500 -123.57015507276344\n",
      "fitness at iteration 3600 -123.57015507276344\n",
      "fitness at iteration 3700 -123.57015507276344\n",
      "fitness at iteration 3800 -123.57015507276344\n",
      "fitness at iteration 3900 -120.6651213415164\n",
      "fitness at iteration 4000 -120.6651213415164\n",
      "local optimum discovered by solver:\n",
      " [10.97281716 10.03744713  9.95714083 11.06874711 10.03061346 10.93564947\n",
      " 10.95456021  9.99965553  8.96187807 10.90682666 10.99004969  9.00283661\n",
      " 10.0086972   8.98555261  9.97122654 10.9323975  11.0297792   9.98892716\n",
      " 10.03396043 10.97049988  9.00140617  9.94393185 10.04331718 10.08786838\n",
      " 11.01674554  8.98620624  9.05777128 10.95317619  9.99521711  9.98868969\n",
      " 10.07128789  9.99262041 10.03534279 10.98287395 10.99667288  9.03362566\n",
      "  8.97463112 11.00759289 10.06354832 11.01936377 10.94173682 10.97762288\n",
      "  8.98562229  9.94897744  9.93509544 10.92073543 10.9201545   8.98832502\n",
      " 10.97826757  9.93871735 10.97292493 10.01026379 10.00810829 11.91358669\n",
      " 10.03750086 11.03275968  9.9104209  10.02954924 11.9851054  11.02964926\n",
      " 11.01797005 11.0227427  11.01439866 10.98097608 12.00195751  9.97541112\n",
      " 11.00502601 10.97466472 10.97374009  9.00049462  9.02075046 10.98196807\n",
      " 10.99593004 11.04844413 11.06277607 10.03173492  8.97861289 10.99295721\n",
      "  9.93787612 11.03915687 11.03237014 11.96039218  7.99288417 10.98740945\n",
      " 11.03462331 11.07955917 11.0781402   9.96797726 11.00951236 11.04305827\n",
      " 10.94734552  9.02784399 11.97403948 10.02090479 11.01122306 12.0017031\n",
      "  8.99137654  8.93805924  9.99796009 10.99298676]\n",
      "fitness score at this local optimum: -120.6651213415164\n"
     ]
    }
   ],
   "source": [
    "oes_history = test_solver(oes)"
   ]
  },
  {
   "cell_type": "code",
   "execution_count": 14,
   "metadata": {},
   "outputs": [],
   "source": [
    "# defines OpenAI's ES algorithm solver. Note that we needed to anneal the sigma parameter\n",
    "# this version turns on antithetic sampling. It doesn't really help, and sometimes hurts performance.\n",
    "oes_antithetic = OpenES(NPARAMS,            # number of model parameters\n",
    "                 sigma_init=0.5,            # initial standard deviation\n",
    "                 sigma_decay=0.999,         # don't anneal standard deviation\n",
    "                 learning_rate=0.1,         # learning rate for standard deviation\n",
    "                 learning_rate_decay=1.0,   # annealing the learning rate\n",
    "                 popsize=NPOPULATION+1,     # population size\n",
    "                 antithetic=True,           # whether to use antithetic sampling\n",
    "                 weight_decay=0.00,         # weight decay coefficient\n",
    "                 rank_fitness=False,        # use rank rather than fitness numbers\n",
    "                 forget_best=False)"
   ]
  },
  {
   "cell_type": "code",
   "execution_count": 15,
   "metadata": {},
   "outputs": [
    {
     "name": "stdout",
     "output_type": "stream",
     "text": [
      "fitness at iteration 100 -3203.600664147284\n",
      "fitness at iteration 200 -899.2101396734763\n",
      "fitness at iteration 300 -798.3906657449379\n",
      "fitness at iteration 400 -798.3906657449379\n",
      "fitness at iteration 500 -798.3906657449379\n",
      "fitness at iteration 600 -746.7011942314931\n",
      "fitness at iteration 700 -681.8959040450345\n",
      "fitness at iteration 800 -628.8655271832366\n",
      "fitness at iteration 900 -533.4071308109761\n",
      "fitness at iteration 1000 -489.563987978847\n",
      "fitness at iteration 1100 -425.283111177289\n",
      "fitness at iteration 1200 -397.931602517962\n",
      "fitness at iteration 1300 -385.68662080399395\n",
      "fitness at iteration 1400 -337.8262995786091\n",
      "fitness at iteration 1500 -324.04015683236696\n",
      "fitness at iteration 1600 -313.6236640690281\n",
      "fitness at iteration 1700 -297.597392831363\n",
      "fitness at iteration 1800 -269.09411907286005\n",
      "fitness at iteration 1900 -249.4256448508453\n",
      "fitness at iteration 2000 -232.41644487730912\n",
      "fitness at iteration 2100 -229.1934605288185\n",
      "fitness at iteration 2200 -223.4266192649576\n",
      "fitness at iteration 2300 -223.4266192649576\n",
      "fitness at iteration 2400 -223.4266192649576\n",
      "fitness at iteration 2500 -223.4266192649576\n",
      "fitness at iteration 2600 -223.4266192649576\n",
      "fitness at iteration 2700 -223.4266192649576\n",
      "fitness at iteration 2800 -197.47620230007863\n",
      "fitness at iteration 2900 -197.47620230007863\n",
      "fitness at iteration 3000 -186.5150382520037\n",
      "fitness at iteration 3100 -186.5150382520037\n",
      "fitness at iteration 3200 -186.5150382520037\n",
      "fitness at iteration 3300 -186.5150382520037\n",
      "fitness at iteration 3400 -186.5150382520037\n",
      "fitness at iteration 3500 -186.5150382520037\n",
      "fitness at iteration 3600 -186.5150382520037\n",
      "fitness at iteration 3700 -186.5150382520037\n",
      "fitness at iteration 3800 -186.5150382520037\n",
      "fitness at iteration 3900 -186.5150382520037\n",
      "fitness at iteration 4000 -186.5150382520037\n",
      "local optimum discovered by solver:\n",
      " [ 8.92646772 11.028348   10.96633197  9.01801136  9.97497809 10.01543385\n",
      "  9.92264029 10.00168975  9.01737644 10.98049988 11.00658904 10.07817837\n",
      " 10.01119001  9.9764398  10.00468641  8.89222916  9.96183433 10.96960224\n",
      " 11.04622919 10.11334916 10.9896275  11.90776866  9.965148    9.92825317\n",
      " 11.09393645 10.89156468 10.20070341 12.14823899 11.04024026  9.95716057\n",
      "  9.99301841 10.975293   10.03503669 10.97002493 11.06890966 10.97567847\n",
      " 10.98597533 10.97205671 11.03511368 10.97605315  9.03280431 11.9275079\n",
      " 11.01675279  9.01741899  9.98232547 10.96494929 10.97444667 10.93474685\n",
      "  9.86485851  9.96280685  9.05007894  8.13998264 11.06408496 11.02511825\n",
      "  9.99403221 11.0410745  11.8265457  11.07092065  9.02460963 10.97492742\n",
      " 11.97802259 10.19664902  9.93726239  9.08554779  8.95085616 11.0603921\n",
      "  9.95006547 10.99143231  9.98395583 10.89045156 11.81655333 12.01695984\n",
      " 10.06947014  9.8869301  10.01225407 11.00876705  9.05557672 10.0536068\n",
      "  9.95671971 10.93728182 10.05183995 11.06644819 10.03475105 11.81627504\n",
      " 11.02447448  7.99589782 10.96771597  8.98355239  9.94181701 10.03975073\n",
      " 12.06019262 11.01672075 10.06849484 10.96550296  9.01990617 10.91475487\n",
      " 11.05146351 10.92104775 11.94040324 10.029675  ]\n",
      "fitness score at this local optimum: -186.5150382520037\n"
     ]
    }
   ],
   "source": [
    "oes_antithetic_history = test_solver(oes_antithetic)"
   ]
  },
  {
   "cell_type": "code",
   "execution_count": 17,
   "metadata": {},
   "outputs": [
    {
     "data": {
      "image/png": "[encoded data removed]",
      "text/plain": [
       "<Figure size 2400x1200 with 1 Axes>"
      ]
     },
     "metadata": {
      "needs_background": "light"
     },
     "output_type": "display_data"
    }
   ],
   "source": [
    "# Create a new figure of size 8x6 points, using 100 dots per inch\n",
    "best_history = [0] * MAX_ITERATION\n",
    "plt.figure(figsize=(16,8), dpi=150)\n",
    "\n",
    "optimum_line, = plt.plot(best_history, color=\"black\", linewidth=0.5, linestyle=\"-.\", label='Global Optimum')\n",
    "ga_line, = plt.plot(ga_history, color=\"green\", linewidth=1.0, linestyle=\"-\", label='GA')\n",
    "oes_line, = plt.plot(oes_history, color=\"orange\", linewidth=1.0, linestyle=\"-\", label='OpenAI-ES')\n",
    "pepg_line, = plt.plot(pepg_history, color=\"blue\", linewidth=1.0, linestyle=\"-\", label='PEPG / NES')\n",
    "# cma_line, = plt.plot(cma_history, color=\"red\", linewidth=1.0, linestyle=\"-\", label='CMA-ES')\n",
    "\n",
    "# plt.legend(handles=[optimum_line, ga_line, cma_line, pepg_line, oes_line], loc=4)\n",
    "plt.legend(handles=[optimum_line, ga_line, pepg_line, oes_line], loc=4)\n",
    "\n",
    "# Set x limits\n",
    "plt.xlim(0,2500)\n",
    "\n",
    "plt.xlabel('generation')\n",
    "plt.ylabel('fitness')\n",
    "\n",
    "# plt.savefig(\"./rastrigin_10d.svg\")\n",
    "\n",
    "plt.show()"
   ]
  }
 ],
 "metadata": {
  "kernelspec": {
   "display_name": "Python 3",
   "language": "python",
   "name": "python3"
  },
  "language_info": {
   "codemirror_mode": {
    "name": "ipython",
    "version": 3
   },
   "file_extension": ".py",
   "mimetype": "text/x-python",
   "name": "python",
   "nbconvert_exporter": "python",
   "pygments_lexer": "ipython3",
   "version": "3.7.5"
  }
 },
 "nbformat": 4,
 "nbformat_minor": 2
}

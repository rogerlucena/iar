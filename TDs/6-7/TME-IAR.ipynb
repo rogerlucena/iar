{
 "cells": [
  {
   "cell_type": "markdown",
   "metadata": {},
   "source": [
    "# TME IAR: Algorithmes Évolutionnistes"
   ]
  },
  {
   "cell_type": "markdown",
   "metadata": {},
   "source": [
    "* Étudiant 1: Nom: XXX Prénom: XXX\n",
    "* Étudiant 2: Nom: XXX Prénom: XXX"
   ]
  },
  {
   "cell_type": "markdown",
   "metadata": {},
   "source": [
    "## Introduction\n",
    "\n",
    "Dans ce TME, vous allez prendre en main différents algorithmes évolutionnistes et regarder comment ils se comportent. Pour cela, différentes fonctions vous sont fournies afin de tracer les individus générés à chaque génération ou de comparer les résultats entre eux. Vous testerez également Gym, un environnement utilisé en apprentissage par renforcement pour normaliser les expériences d'apprentissage sur des robots (virtuels).\n",
    "\n",
    "Vous complèterez ce notebook et l'enverrez à stephane.doncieux@sorbonne-universite.fr avec les fichiers python associés. **ATTENTION** merci de mettre comme sujet: \\[TME IAR\\] nom1 et nom2, au risque que votre mail soit perdu dans les limbes...\n",
    "\n",
    "Pour ne pas surcharger le notebook, vous mettrez de préférence votre code dans un fichier python que vous chargerez avec un import. Le code que vous mettrez dans le notebook sera le code appelant vos fonctions et affichant le résultat.\n"
   ]
  },
  {
   "cell_type": "code",
   "execution_count": null,
   "metadata": {},
   "outputs": [],
   "source": [
    "# Note: l'import d'un fichier ne se fait qu'une seule fois. Si vous modifiez ce fichier, \n",
    "# il vous faut redémarrer votre kernel si vous voulez prendre en compte les modifications.\n",
    "# vous pouvez éviter cela de la façon suivante: \n",
    "import importlib # une seule fois\n",
    "import plot # le module doit avoir été importé une première fois\n",
    "importlib.reload(plot) # cette ligne permet de charger la dernière version\n",
    "\n",
    "import matplotlib.pyplot as plt\n",
    "\n",
    "# pour que les figures apparaissent directement dans le notebook\n",
    "%matplotlib inline \n",
    "\n"
   ]
  },
  {
   "cell_type": "markdown",
   "metadata": {},
   "source": [
    "## Stratégies d'Évolution\n",
    "\n",
    "**1-** La bibliothèque DEAP propose un framework en python pour implémenter des algorithmes évolutionnistes (https://github.com/DEAP/deap.git). Installez-la avec un `pip3 install --user deap`. Regardez comment fonctionne cette bibliothèque et utilisez-là pour implémenter une stratégie d'évolution (ES) avec la variante '+'. Testez une stratégie d'évolution sur la fonction Ackley, fournie parmi les benchmarks de DEAP. Cette fonction a un optimum de 0 en (0,0). Vous testerez cette fonction en dimension 2 dans un premier temps, cela vous permettra de tracer les individus générés à chaque génération (ou à une certaine période) avec la fonction fournie plot\\_results. Pour mieux voir la progression de la population, vous pourrez partir de points initialement tirés entre 15 et 25 (vous pourrez essayer plus proche de l'optimal). **Vous compléterez le fichier `es.py`**"
   ]
  },
  {
   "cell_type": "code",
   "execution_count": null,
   "metadata": {
    "scrolled": false
   },
   "outputs": [],
   "source": [
    "# complétez pour inclure le code (que vous pouvez aussi mettre dans un fichier python) et, surtout, les résultats obtenus\n",
    "\n",
    "import es\n",
    "importlib.reload(es)\n",
    "\n",
    "### Mettre ici l'appel à votre fonction ###"
   ]
  },
  {
   "cell_type": "markdown",
   "metadata": {},
   "source": [
    "_inclure ici quelques commentaires sur vos résultats_"
   ]
  },
  {
   "cell_type": "markdown",
   "metadata": {},
   "source": [
    "**2-** DEAP inclus une version de CMA-ES, mais la version standard et plus complète est celle proposée dans la bibliothèque pycma (https://github.com/CMA-ES/pycma). Vous pourrez l'installer avec `pip3 install --user cma`. Vous testerez cette bibliothèque sur la même fonction de Ackley, toujours en dimension 2 pour l'instant. De même que précédemment, vous tracerez l'évolution de la population. Vous étudierez l'impact du choix du point initial et du sigma. Vous comparerez également la version complète avec la version pureCMA, qui n'inclut pas certains mécanismes comme le restart. **Vous compléterez le fichier `cmaes.py`**."
   ]
  },
  {
   "cell_type": "code",
   "execution_count": null,
   "metadata": {
    "scrolled": false
   },
   "outputs": [],
   "source": [
    "# complétez pour inclure le code (que vous pouvez aussi mettre dans un fichier python) et, surtout, les résultats obtenus\n",
    "\n",
    "import cmaes\n",
    "importlib.reload(cmaes)\n",
    "\n",
    "### Mettre ici l'appel à votre fonction cmaes###\n"
   ]
  },
  {
   "cell_type": "code",
   "execution_count": null,
   "metadata": {
    "scrolled": false
   },
   "outputs": [],
   "source": [
    "### Mettre ici l'appel à votre fonction cmaes \"pure\" ###"
   ]
  },
  {
   "cell_type": "markdown",
   "metadata": {},
   "source": [
    "_inclure ici quelques commentaires sur vos résultats_"
   ]
  },
  {
   "cell_type": "markdown",
   "metadata": {},
   "source": [
    "**3-** Faites une comparaison de ES, CMA-ES et de plusieurs optimiseurs standards, comme les méthodes Nelder et Powell fournies dans scipy.optimize. **Vous compléterez pour cela le code fourni dans `comparaison.py`** . Vous pourrez éventuellement ajouter un diagramme représentant le nombre d'évaluation par méthode."
   ]
  },
  {
   "cell_type": "code",
   "execution_count": null,
   "metadata": {},
   "outputs": [],
   "source": [
    "import comparaison\n",
    "importlib.reload(comparaison)\n",
    "\n",
    "### Mettre ici l'appel à la fonction de comparaison et le tracé des résultats avec plot_violin ###"
   ]
  },
  {
   "cell_type": "markdown",
   "metadata": {},
   "source": [
    "_inclure ici quelques commentaires sur vos résultats_"
   ]
  },
  {
   "cell_type": "markdown",
   "metadata": {},
   "source": [
    "## Utilisation de OpenAI Gym\n",
    "\n",
    "OpenAI Gym (https://gym.openai.com/) est un framework permettant de lancer facilement des expériences d'apprentissage par renforcement. Nous allons l'utiliser pour tester les algorithmes évolutionnistes sur des problèmes d'apprentissage par renforcement."
   ]
  },
  {
   "cell_type": "markdown",
   "metadata": {},
   "source": [
    "**1-** En partant de l'exemple de la documentation de Gym et du code fourni pour le réseau de neurones (`fixed_structure_nn_numpy.py`), faites une expérience pour optimiser les paramètres d'un réseau de neurones contrôlant un pendule inversé (environnement 'CartPole-v1') avec CMA-ES. Si ce n'est pas déjà le cas, imposez une limite à 500 pas de temps au-delà de laquelle l'expérience est considérée comme réussie. **Vous compléterez le code fourni dans `gym_cartpole.py`**"
   ]
  },
  {
   "cell_type": "code",
   "execution_count": null,
   "metadata": {},
   "outputs": [],
   "source": [
    "# complétez pour inclure le code (que vous pouvez aussi mettre dans un fichier python) et, surtout, les résultats obtenus\n",
    "\n"
   ]
  },
  {
   "cell_type": "markdown",
   "metadata": {},
   "source": [
    "_inclure ici quelques commentaires sur vos résultats_"
   ]
  },
  {
   "cell_type": "markdown",
   "metadata": {},
   "source": [
    "**2-** Recalculez plusieurs fois la fitness du meilleur contrôleur généré. Visualisez les comportements correspondants. Que constatez-vous ? Quel est le problème ? Proposez une solution pour le résoudre."
   ]
  },
  {
   "cell_type": "code",
   "execution_count": null,
   "metadata": {},
   "outputs": [],
   "source": [
    "# complétez pour inclure le code (que vous pouvez aussi mettre dans un fichier python) et, surtout, les résultats obtenus\n",
    "\n"
   ]
  },
  {
   "cell_type": "markdown",
   "metadata": {},
   "source": [
    "_inclure ici quelques commentaires sur vos résultats_"
   ]
  }
 ],
 "metadata": {
  "kernelspec": {
   "display_name": "Python 3",
   "language": "python",
   "name": "python3"
  },
  "language_info": {
   "codemirror_mode": {
    "name": "ipython",
    "version": 3
   },
   "file_extension": ".py",
   "mimetype": "text/x-python",
   "name": "python",
   "nbconvert_exporter": "python",
   "pygments_lexer": "ipython3",
   "version": "3.6.4"
  }
 },
 "nbformat": 4,
 "nbformat_minor": 2
}
